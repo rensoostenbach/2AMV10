{
 "cells": [
  {
   "cell_type": "markdown",
   "id": "immune-houston",
   "metadata": {},
   "source": [
    "# Image preprocessing\n",
    "Since all images were resized to 416x416 before training, we will do the same right now"
   ]
  },
  {
   "cell_type": "code",
   "execution_count": 13,
   "id": "defensive-builder",
   "metadata": {},
   "outputs": [],
   "source": [
    "from PIL import Image\n",
    "import glob"
   ]
  },
  {
   "cell_type": "code",
   "execution_count": 29,
   "id": "responsible-sally",
   "metadata": {},
   "outputs": [],
   "source": [
    "images = glob.glob(\"data/images/*.jpg\")\n",
    "for image in images:\n",
    "    with open(image, 'rb') as file:\n",
    "        filename = image.rsplit(\"\\\\\",1)[1]\n",
    "        img = Image.open(file)\n",
    "        new_image = img.resize((416,416))\n",
    "        new_image.save(f'data/images/resized/{filename}')"
   ]
  },
  {
   "cell_type": "code",
   "execution_count": 30,
   "id": "functioning-rouge",
   "metadata": {},
   "outputs": [
    {
     "name": "stderr",
     "output_type": "stream",
     "text": [
      "Traceback (most recent call last):\n",
      "  File \"detect.py\", line 10, in <module>\n",
      "    from models.experimental import attempt_load\n",
      "  File \"D:\\rens\\Universiteit\\Master\\Jaar 1\\Q3\\Visual Analytics\\yolov5\\models\\experimental.py\", line 7, in <module>\n",
      "    from models.common import Conv, DWConv\n",
      "  File \"D:\\rens\\Universiteit\\Master\\Jaar 1\\Q3\\Visual Analytics\\yolov5\\models\\common.py\", line 11, in <module>\n",
      "    from utils.datasets import letterbox\n",
      "  File \"D:\\rens\\Universiteit\\Master\\Jaar 1\\Q3\\Visual Analytics\\yolov5\\utils\\datasets.py\", line 21, in <module>\n",
      "    from tqdm import tqdm\n",
      "ModuleNotFoundError: No module named 'tqdm'\n"
     ]
    }
   ],
   "source": [
    "!python detect.py --weights runs/train/yolov5l_results/weights/yolov5l-100epochs-16bs.pt --img 416 --conf 0.25 --source ../../data/images/processed --save-txt --save-conf"
   ]
  },
  {
   "cell_type": "code",
   "execution_count": null,
   "id": "hawaiian-destination",
   "metadata": {},
   "outputs": [],
   "source": []
  }
 ],
 "metadata": {
  "kernelspec": {
   "display_name": "Python 3",
   "language": "python",
   "name": "python3"
  },
  "language_info": {
   "codemirror_mode": {
    "name": "ipython",
    "version": 3
   },
   "file_extension": ".py",
   "mimetype": "text/x-python",
   "name": "python",
   "nbconvert_exporter": "python",
   "pygments_lexer": "ipython3",
   "version": "3.7.9"
  }
 },
 "nbformat": 4,
 "nbformat_minor": 5
}
